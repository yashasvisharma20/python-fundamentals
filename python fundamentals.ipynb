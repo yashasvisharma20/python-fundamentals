{
 "cells": [
  {
   "cell_type": "markdown",
   "metadata": {},
   "source": [
    "# Python Fundamentals\n",
    "\n",
    "### Variables and Data Types"
   ]
  },
  {
   "cell_type": "code",
   "execution_count": null,
   "metadata": {},
   "outputs": [],
   "source": [
    "print(\"Hello World\")\n",
    "print(23)"
   ]
  },
  {
   "cell_type": "markdown",
   "metadata": {},
   "source": [
    "Variables: They store value in memory location"
   ]
  },
  {
   "cell_type": "code",
   "execution_count": null,
   "metadata": {},
   "outputs": [],
   "source": [
    "name = \"Yashasvi\"\n",
    "age = 19 \n",
    "price = 25.99 # here we used assignment operator where right value(19) store in left variable (age)\n",
    "print(\"My name is \",name, \"and I am \", age ,\"year old\")"
   ]
  },
  {
   "cell_type": "markdown",
   "metadata": {},
   "source": [
    "Identifier: can be combo of uppercase and lowercase letter or an underscore but be simple, short and meaningful"
   ]
  },
  {
   "cell_type": "markdown",
   "metadata": {},
   "source": [
    "Data Types\n",
    "* Integers\n",
    "* Strings\n",
    "* Float\n",
    "* Boolean\n",
    "* None"
   ]
  },
  {
   "cell_type": "code",
   "execution_count": null,
   "metadata": {},
   "outputs": [],
   "source": [
    "age = 23\n",
    "old = True\n",
    "a = None\n",
    "print(type(old))\n",
    "print(type(a))"
   ]
  },
  {
   "cell_type": "markdown",
   "metadata": {},
   "source": [
    "Keywords: Keywords are reserved words in python\n",
    "\n",
    "And , as, assert, break, class, continue, def, del, elif, else, except, finally, false, for, from, global, if, import, in, is, lambda, nonlocal, none, \n",
    "not, or, pass, raise, return, true, try, with, while, yield\n",
    "\n",
    " Python is \n",
    " \n",
    " * Case Sensitive Language\n",
    " \n",
    " * Implicit Typed Language\n",
    "\n",
    " * Identation(proper spacing matter)"
   ]
  },
  {
   "cell_type": "code",
   "execution_count": null,
   "metadata": {},
   "outputs": [],
   "source": [
    "a = int(input(\"Enter I number: \")) # here , take input from user and then convert string into integer by using typecasting\n",
    "b = int(input(\"Enter II number: \"))\n",
    "sum = a + b\n",
    "sum # without using print function, we can print ."
   ]
  },
  {
   "cell_type": "markdown",
   "metadata": {},
   "source": [
    "#### Types of Tokens\n",
    "\n",
    "Punctuators: Puncutators symbols to organize sentence structure in programming.\n",
    "(),{},@,[],# etc.\n",
    "Augmented assignment operator: -=,+=,/=,*=,//=,= etc."
   ]
  },
  {
   "cell_type": "markdown",
   "metadata": {},
   "source": []
  },
  {
   "cell_type": "markdown",
   "metadata": {},
   "source": [
    "##### Expression Execution\n",
    "\n",
    "* String & numeric values can operate together wtih *\n",
    "\n",
    "a,b=2,3\n",
    "\n",
    "txt = \"$\"\n",
    "\n",
    "print(2*txt*3)\n",
    "\n",
    "* String & string can operate with +\n",
    "\n",
    "a,b=\"2\",3\n",
    "\n",
    "txt = \"@\"\n",
    "\n",
    "print((a + txt)*b) Concatenation of string\n",
    "\n",
    "* Numeric values can operate with all arithmetic operator\n",
    "\n",
    "* Arithmetic expression with integer and float will result in float\n",
    "\n",
    "* Result of division operator with two integers will be float\n",
    "\n",
    "* Integer division with float and int will give int displayed as float\n",
    "\n",
    "a,b=1.5,3\n",
    "\n",
    "c=a//b # it convert float into integer first and also convert into smallest int\n",
    "\n",
    "print(c,a/b)\n",
    "\n",
    "<> floor gives closed integer, which is lesser than or equal to the float value\n",
    "\n",
    "<> Result of (a//b) is same as floor(a/b)\n",
    "\n",
    "<> Only if remainder is -ve when denominator is -ve"
   ]
  },
  {
   "cell_type": "markdown",
   "metadata": {},
   "source": [
    "### String And Conditional Statements\n",
    "\n",
    "#### Syntax: \n",
    "The set of rules that defines what the various combinations of symbols means."
   ]
  },
  {
   "cell_type": "code",
   "execution_count": null,
   "metadata": {},
   "outputs": [],
   "source": [
    "# this is code for traffic light\n",
    "\n",
    "light = input(\"Light : \" )\n",
    "if(light == \"red\"):\n",
    "    print(\"Stop\")\n",
    "elif(light == \"yellow\"):\n",
    "    print(\"Look\")\n",
    "elif(light == \"Green\"):\n",
    "    print(\"Go\")\n",
    "else:\n",
    "    print(\"Broken light\")"
   ]
  },
  {
   "cell_type": "code",
   "execution_count": null,
   "metadata": {},
   "outputs": [],
   "source": [
    "# Grade students based on marks code\n",
    "\n",
    "Student = input(\"Enter Student Name: \")\n",
    "print(\"Student Name: \",Student)\n",
    "\n",
    "English = int(input(\"Enter English marks (out of 20): \"))\n",
    "Hindi = int(input(\"Enter Hindi marks (out of 20): \"))\n",
    "Mathematics = int(input(\"Enter Mathematics marks (out of 20): \"))\n",
    "Science = int(input(\"Enter Science marks (out of 20): \"))\n",
    "SST = int(input(\"Enter SST marks (out of 20): \"))\n",
    "    \n",
    "total_marks = English + Hindi + Mathematics + Science + SST\n",
    "print(\"Total Marks: \",total_marks)\n",
    "    \n",
    "if(total_marks >= 90):\n",
    "    print(\"Grade = A\")\n",
    "elif(total_marks<90 and total_marks>=80):\n",
    "    print(\"Grade = B\")\n",
    "elif(total_marks<80 and total_marks>=70):\n",
    "    print(\"Grade = C\")\n",
    "elif(70>total_marks < 33):\n",
    "    print(\"Grade = D\")\n",
    "else:\n",
    "    print(\"Grade = F\")"
   ]
  },
  {
   "cell_type": "code",
   "execution_count": null,
   "metadata": {},
   "outputs": [],
   "source": [
    "# Nesting\n",
    "\n",
    "age = 95\n",
    "\n",
    "if(age>=18):\n",
    "    if(age>=60):\n",
    "        print(\"cannot drive\")\n",
    "    else:\n",
    "        print(\"can drive\")\n",
    "else:\n",
    "    print(\"cannot drive\")"
   ]
  },
  {
   "cell_type": "code",
   "execution_count": null,
   "metadata": {},
   "outputs": [],
   "source": [
    "# Write a program to check if a number entered by the user is even or odd\n",
    "\n",
    "number = int(input(\"Enter a number : \"))\n",
    "if(number%2 == 0):\n",
    "    print(number,\"is even number\")\n",
    "else:\n",
    "    print(number,\"is odd number\")\n"
   ]
  },
  {
   "cell_type": "code",
   "execution_count": null,
   "metadata": {},
   "outputs": [],
   "source": [
    "# Write a program to find the greatest of 3 numbers entered by the user\n",
    "\n",
    "num1 = int(input(\"Enter 1st number: \"))\n",
    "num2 = int(input(\"Enter 2nd number: \"))\n",
    "num3 = int(input(\"Enter 3rd number: \"))\n",
    "\n",
    "if(num1>num2 and num1>num3):\n",
    "    print(num1,\"is greatest\")\n",
    "elif(num2>num3):\n",
    "    print(num2,\"is greatest\")\n",
    "else:\n",
    "    print(num3, \"is greatest\")"
   ]
  },
  {
   "cell_type": "code",
   "execution_count": null,
   "metadata": {},
   "outputs": [],
   "source": [
    "# Write a program to check if a number is a multiple of 7 or not\n",
    "\n",
    "number = int(input(\"Enter a number: \"))\n",
    "if(number %7 ==0):\n",
    "    print(number,\"is a multiple of 7\")\n",
    "else:\n",
    "    print(number,\"is not a multiple of 7\")"
   ]
  },
  {
   "cell_type": "markdown",
   "metadata": {},
   "source": [
    "#### Strings\n",
    "\n",
    "* Immutable(we can access but we cannot change a string)."
   ]
  },
  {
   "cell_type": "markdown",
   "metadata": {},
   "source": [
    "\n",
    "Escape Sequence characters: These are used to format code"
   ]
  },
  {
   "cell_type": "code",
   "execution_count": null,
   "metadata": {},
   "outputs": [],
   "source": [
    "str = \"This is string.\\n We are creating it in python\"\n",
    "print(str)\n",
    "print(\"This is string.\\n We are creating it in python\")\n",
    "print(\"company \\t Microsoft\")\n",
    "print(\"company    Microsoft\")"
   ]
  },
  {
   "cell_type": "markdown",
   "metadata": {},
   "source": [
    "* Length of str = len(str)\n",
    "\n",
    "<> it also calculate spaces between strings"
   ]
  },
  {
   "cell_type": "code",
   "execution_count": null,
   "metadata": {},
   "outputs": [],
   "source": [
    "print(len(str))"
   ]
  },
  {
   "cell_type": "markdown",
   "metadata": {},
   "source": [
    "* Indexing : position of string\n",
    "\n",
    "<> start with 0.\n",
    "\n",
    "<> we can access character through indexing but we cannot manipulate characters."
   ]
  },
  {
   "cell_type": "code",
   "execution_count": null,
   "metadata": {},
   "outputs": [],
   "source": [
    "print(str[0])"
   ]
  },
  {
   "cell_type": "markdown",
   "metadata": {},
   "source": [
    "* Slicing : accessing parts of a string\n",
    "\n",
    "str[starting_inx:ending_inx] # ending inx is not included"
   ]
  },
  {
   "cell_type": "code",
   "execution_count": null,
   "metadata": {},
   "outputs": [],
   "source": [
    "str[1: ]\n",
    "str[ :9]\n",
    "str[1:8]\n",
    "str[0:15:2]\n",
    "str[0:len(str)]\n",
    "str[-3:-1]"
   ]
  },
  {
   "cell_type": "markdown",
   "metadata": {},
   "source": [
    "* String functions\n",
    "\n",
    "1. str.endwith(\"er) = returns true if string ends with substr\n",
    "\n",
    "2. str.capitalize() = capitalize 1st char and it create new strings.\n",
    "\n",
    "3. str.replace(old,new) = replace all occurence of old with new\n",
    "\n",
    "4. str.find(word) = returns 1st index of 1st occurence. If we give nonexist char it return -1.\n",
    "\n",
    "5. str.count(\"am\") = counts the occurence of substr in string.\n",
    "\n",
    "6. str.split('t') = splits the string.\n",
    "\n",
    "7. str.strip() = remove extra space from start and end\n",
    "\n",
    "8. str.upper() = uppercase\n",
    "\n",
    "9. str.lower() = lowercase"
   ]
  },
  {
   "cell_type": "code",
   "execution_count": null,
   "metadata": {},
   "outputs": [],
   "source": [
    "# Write a program to input user's first name & print its length.\n",
    "\n",
    "name = input(\"Enter a name: \")\n",
    "print(\"Length of name: \",len(name))"
   ]
  },
  {
   "cell_type": "code",
   "execution_count": null,
   "metadata": {},
   "outputs": [],
   "source": [
    "# Write a program to find the occurrence of '$' in a string\n",
    "\n",
    "string = \"The symbol $ represent us dollar.for example , $23,$56,$100,$67,$0.5 etc\"\n",
    "print(string.count('$'))"
   ]
  },
  {
   "cell_type": "markdown",
   "metadata": {},
   "source": [
    "### Lists\n",
    "\n",
    "* A built-in data type that stores set of data\n",
    "\n",
    "* Alternative of array in python.\n",
    "\n",
    "* It can store elements of different types(integer, float, string, etc.) together\n",
    "\n",
    "* Lists are mutable(means we can manipulate list)"
   ]
  },
  {
   "cell_type": "code",
   "execution_count": null,
   "metadata": {},
   "outputs": [],
   "source": [
    "marks = [94.4, 87.5, 95.2, 66.4, 45.1]\n",
    "print(marks)"
   ]
  },
  {
   "cell_type": "code",
   "execution_count": null,
   "metadata": {},
   "outputs": [],
   "source": [
    "marks[0] # having same indexing as string"
   ]
  },
  {
   "cell_type": "code",
   "execution_count": null,
   "metadata": {},
   "outputs": [],
   "source": [
    "len(marks) # length of a list"
   ]
  },
  {
   "cell_type": "code",
   "execution_count": null,
   "metadata": {},
   "outputs": [],
   "source": [
    "marks[0] = 94 # mutable\n",
    "marks[0]\n",
    "marks"
   ]
  },
  {
   "cell_type": "markdown",
   "metadata": {},
   "source": [
    "* Slicing = seperate list into sublist\n",
    "\n",
    "list_name[starting_idx:ending_idx] # ending idx is not included"
   ]
  },
  {
   "cell_type": "code",
   "execution_count": null,
   "metadata": {},
   "outputs": [],
   "source": [
    "print(marks[1:4])\n",
    "print(marks[0:len(marks)])\n",
    "print(marks[ :3])\n",
    "print(marks[-1:-3])\n",
    "print(marks[0:len(marks):2]) #jump into 2"
   ]
  },
  {
   "cell_type": "markdown",
   "metadata": {},
   "source": [
    "#### List Method\n",
    "\n",
    "1. list.append() = adds one element at the end"
   ]
  },
  {
   "cell_type": "code",
   "execution_count": null,
   "metadata": {},
   "outputs": [],
   "source": [
    "list = [1,2,3]\n",
    "list.append(4)\n",
    "list"
   ]
  },
  {
   "cell_type": "markdown",
   "metadata": {},
   "source": [
    "2. list.sort() = sorts in ascending order"
   ]
  },
  {
   "cell_type": "code",
   "execution_count": null,
   "metadata": {},
   "outputs": [],
   "source": [
    "list = [2,1,3,4]\n",
    "list.sort()\n",
    "list"
   ]
  },
  {
   "cell_type": "markdown",
   "metadata": {},
   "source": [
    "3. list.sort(reverse=True) = sorts in decending order"
   ]
  },
  {
   "cell_type": "code",
   "execution_count": null,
   "metadata": {},
   "outputs": [],
   "source": [
    "list.sort(reverse=True)\n",
    "list"
   ]
  },
  {
   "cell_type": "markdown",
   "metadata": {},
   "source": [
    "4. list.reverse() = reverse list"
   ]
  },
  {
   "cell_type": "code",
   "execution_count": null,
   "metadata": {},
   "outputs": [],
   "source": [
    "list.reverse()\n",
    "list"
   ]
  },
  {
   "cell_type": "markdown",
   "metadata": {},
   "source": [
    "5. list.insert(idx,el) = insert element at index"
   ]
  },
  {
   "cell_type": "code",
   "execution_count": null,
   "metadata": {},
   "outputs": [],
   "source": [
    "list.insert(5,7)\n",
    "list"
   ]
  },
  {
   "cell_type": "markdown",
   "metadata": {},
   "source": [
    "6. list.pop() = remove last element"
   ]
  },
  {
   "cell_type": "code",
   "execution_count": null,
   "metadata": {},
   "outputs": [],
   "source": [
    "list.pop()\n",
    "list\n",
    "list.pop(0)\n",
    "list"
   ]
  },
  {
   "cell_type": "markdown",
   "metadata": {},
   "source": [
    "7. update"
   ]
  },
  {
   "cell_type": "code",
   "execution_count": null,
   "metadata": {},
   "outputs": [],
   "source": [
    "list[0] =0\n",
    "list"
   ]
  },
  {
   "cell_type": "markdown",
   "metadata": {},
   "source": [
    "8. list.remove(item) = remove and shift remaining item"
   ]
  },
  {
   "cell_type": "code",
   "execution_count": null,
   "metadata": {},
   "outputs": [],
   "source": [
    "l = [1,2,3,4,5,6,6,6]\n",
    "l.remove(4)\n",
    "l"
   ]
  },
  {
   "cell_type": "markdown",
   "metadata": {},
   "source": [
    "9. list.count(item) = count item"
   ]
  },
  {
   "cell_type": "code",
   "execution_count": null,
   "metadata": {},
   "outputs": [],
   "source": [
    "l.count(6)"
   ]
  },
  {
   "cell_type": "markdown",
   "metadata": {},
   "source": [
    "10. list.extend() = extend an list"
   ]
  },
  {
   "cell_type": "code",
   "execution_count": null,
   "metadata": {},
   "outputs": [],
   "source": [
    "l.extend(list)\n",
    "l"
   ]
  },
  {
   "cell_type": "markdown",
   "metadata": {},
   "source": [
    "11. list.replace('exist element ','new element')"
   ]
  },
  {
   "cell_type": "code",
   "execution_count": null,
   "metadata": {},
   "outputs": [],
   "source": [
    "ls = [0,3,3.6,'upflairs']\n",
    "var = ls[3]\n",
    "print(var.replace('upflairs','flipkart'))\n",
    "ls"
   ]
  },
  {
   "cell_type": "markdown",
   "metadata": {},
   "source": [
    "### Tuples\n",
    "\n",
    "* A built-in data type that lets us create immutable(cannot change values or caannot add element or cannot delete exist element) sequence of values.\n",
    "\n",
    "* Variable can be int, float, char, str, float, double.\n",
    "\n",
    "* Indexing and slicing can be possible.\n",
    "\n",
    "* Can also print empty tuple."
   ]
  },
  {
   "cell_type": "code",
   "execution_count": null,
   "metadata": {},
   "outputs": [],
   "source": [
    "tuple = (1,2,3,4)\n",
    "tuple[0]  # indexing\n",
    "t = ()\n",
    "t\n",
    "tup =(1,) # If we remove , then python consider it as integer\n",
    "tup\n",
    "tup =(\"hello\") # in case of string , we do not require use of ','\n",
    "tup\n",
    "tuple[0:3] # slicing"
   ]
  },
  {
   "cell_type": "code",
   "execution_count": null,
   "metadata": {},
   "outputs": [],
   "source": [
    "tuple  = ('a','a','a','b',1,7)\n",
    "tuple.count('a')"
   ]
  },
  {
   "cell_type": "code",
   "execution_count": null,
   "metadata": {},
   "outputs": [],
   "source": [
    "# Write a program to ask the user to enter names of their 3 favorite movies & store them in a list.\n",
    "\n",
    "#movie = []\n",
    "m1 = input(\"Enter 1st movie name: \")\n",
    "m2 = input(\"Enter 2nd movie name: \")\n",
    "m3 = input(\"Enter 3rd movie name: \")\n",
    "\n",
    "#movie.append(m1)\n",
    "#movie.append(m2)\n",
    "#movie.append(m3)\n",
    "#movie\n",
    "list =[m1,m2,m3]\n",
    "list"
   ]
  },
  {
   "cell_type": "code",
   "execution_count": null,
   "metadata": {},
   "outputs": [],
   "source": [
    "# Write a program to check if a list contains a palindrome of elements.\n",
    "\n",
    "l1 =[]\n",
    "l1.append(int(input(\"Enter element\")))\n",
    "l1.append(int(input(\"Enter element\")))\n",
    "l1.append(int(input(\"Enter element\")))\n",
    "l1.append(int(input(\"Enter element\")))\n",
    "l1.append(int(input(\"Enter element\")))\n",
    "print(l1)\n",
    "copy_list = l1.copy()\n",
    "copy_list.reverse()\n",
    "if(l1 == copy_list):\n",
    "    print(l1,\"is a palindrome list\")\n",
    "else:\n",
    "    print(l1,\"is not a palindrome list\")\n",
    "\n",
    "\n"
   ]
  },
  {
   "cell_type": "code",
   "execution_count": null,
   "metadata": {},
   "outputs": [],
   "source": [
    "# Write a program to count the no of students with the 'A' grade in the following tuple\n",
    "\n",
    "tuple = (\"C\",\"D\",\"A\",\"A\",\"B\",\"B\",\"A\")\n",
    "print(tuple.count(\"A\"))\n",
    "\n",
    "# Store the above values in a list & sort from \"A\" to \"D\"\n",
    "\n",
    "list = [\"C\",\"D\",\"A\",\"A\",\"B\",\"B\",\"A\"]\n",
    "list.sort()\n",
    "list\n"
   ]
  },
  {
   "cell_type": "markdown",
   "metadata": {},
   "source": [
    "### Dictionary\n",
    "\n",
    "* Dictionaries are build-in which used to store data values in key:value pairs.\n",
    "\n",
    "* They are - 1. unordered   2. mutable  3. don't allow duplicate keys.\n",
    "\n",
    "* Keys cannot be lists.\n",
    "\n",
    "* Can be create empty or null dictionary."
   ]
  },
  {
   "cell_type": "code",
   "execution_count": null,
   "metadata": {},
   "outputs": [],
   "source": [
    "info = {\n",
    "    \"key\" : \"value\",\n",
    "    \"name\" :\"amit singh\",\n",
    "    \"father name\" : \"ravi singh\",\n",
    "    \"contact no\" : 1234567890,\n",
    "    \"adult\" : True, \n",
    "    \"cgpa\" : 8.6,\n",
    "    \"subject\" : ['Python','C','Java'],\n",
    "    \"topics\" : ('oops','data science')\n",
    "}\n",
    "\n",
    "info['adult']    # we can access value through key\n",
    "info['name'] = 'shamin'  # we can update values\n",
    "info['surname'] = 'singh'  # we can add key and values pair\n",
    "info"
   ]
  },
  {
   "cell_type": "markdown",
   "metadata": {},
   "source": [
    "* Nested dictionaries"
   ]
  },
  {
   "cell_type": "code",
   "execution_count": null,
   "metadata": {},
   "outputs": [],
   "source": [
    "student = {\n",
    "    \"name\" : \"Vinni\",\n",
    "    \"score\": {\n",
    "        \"chem\": 98,\n",
    "        \"phy\": 97,\n",
    "        \"math\":95\n",
    "    }\n",
    "}\n",
    "student[\"score\"][\"chem\"]\n",
    "print(len(student)) # length of student"
   ]
  },
  {
   "cell_type": "markdown",
   "metadata": {},
   "source": [
    "#### Dictionary Methods\n",
    "\n",
    "* dict.key() = returns all keys\n",
    "\n",
    "* dict.values = returns all values\n",
    "\n",
    "* dict.items() = returns all (key,val) pairs as tuples\n",
    "\n",
    "* dic.get('key') = returns the key according to values"
   ]
  },
  {
   "cell_type": "code",
   "execution_count": null,
   "metadata": {},
   "outputs": [],
   "source": [
    "# print(student[\"name2\"]) gives error\n",
    "# but \n",
    "print(student.get(\"name2\")) # do not give error"
   ]
  },
  {
   "cell_type": "markdown",
   "metadata": {},
   "source": [
    "* dict.update(newdict) = insert the specified items to the dictionary"
   ]
  },
  {
   "cell_type": "code",
   "execution_count": null,
   "metadata": {},
   "outputs": [],
   "source": [
    "student.update({\"city\":\"jaipur\"}) # can be add mutliple value \n",
    "student"
   ]
  },
  {
   "cell_type": "markdown",
   "metadata": {},
   "source": [
    "### Set\n",
    "\n",
    "* Set is the collection of the unordered items. Indexing cannot possible.\n",
    "\n",
    "* Each element in the set must be unique & immutable. \n",
    "\n",
    "* Set can store int, boolean, float, string and tuple except list and dictionary.\n",
    "\n",
    "* Set ignore duplicate values. Repeated elements stored only once.\n",
    "\n",
    "* Set can be empty.\n",
    "\n",
    "* set is mutable because it can perform addition and deletion operation.\n",
    "\n"
   ]
  },
  {
   "cell_type": "code",
   "execution_count": null,
   "metadata": {},
   "outputs": [],
   "source": [
    "s = {1,2,3,4}\n",
    "len(s) # length of  set\n"
   ]
  },
  {
   "cell_type": "markdown",
   "metadata": {},
   "source": [
    "#### Set Methods\n",
    "\n",
    "1. set.add(el) = adds an element\n",
    "\n",
    "2. set.remove(el) = remove the element\n",
    "\n",
    "3. set.clear() = empties the set\n",
    "\n",
    "4. set.pop() = removes a random value\n",
    "\n",
    "5. set discard() = if item is not present in set , it does not give error. Functions are same as remove.\n",
    "\n",
    "6. set.update(anotherset) = combines both set values & return new\n",
    "\n",
    "7. set.intersection(anotherset) = combines common values & return new"
   ]
  },
  {
   "cell_type": "code",
   "execution_count": null,
   "metadata": {},
   "outputs": [],
   "source": [
    "# Store following word meaning in a python dicionary\n",
    "\n",
    "dict = {\n",
    "    \"table\" : [\"a piece of furniture\", \"list of facts & figures\"],\n",
    "    \"cat\" : \"a small animal\"\n",
    "}\n",
    "dict"
   ]
  },
  {
   "cell_type": "code",
   "execution_count": null,
   "metadata": {},
   "outputs": [],
   "source": [
    "# You are given a list of subjects for students. Assume one classroom is required for 1 subject. How many classroom are needed by all students.\n",
    "\n",
    "subjects = {'python','java','c++','c','javascript','java','python','c++'}\n",
    "len(subjects)\n"
   ]
  },
  {
   "cell_type": "code",
   "execution_count": null,
   "metadata": {},
   "outputs": [],
   "source": [
    "# Write a program to enter marks of 3 subjects from the user and store them in a dictionary. Start with an empty dictionary & add one by one. Use subject name as key & marks as value.\n",
    "\n",
    "dict = {}\n",
    "\n",
    "x = int(input(\"Enter physic marks: \"))\n",
    "dict.update({\"Physic\":x})\n",
    "\n",
    "y = int(input(\"Enter chemistry marks: \"))\n",
    "dict.update({\"Chemistry\": y}\n",
    "            )\n",
    "z = int(input(\"Enter Maths marks: \"))\n",
    "dict.update({\"Maths\":z})\n",
    "dict"
   ]
  },
  {
   "cell_type": "code",
   "execution_count": null,
   "metadata": {},
   "outputs": [],
   "source": [
    "# Figure out a way to store 9 & 9.0 as seperate values in the set.\n",
    "set = {(\"float\",9.0),(\"int\",9)}\n",
    "set\n",
    "\n"
   ]
  },
  {
   "cell_type": "markdown",
   "metadata": {},
   "source": [
    "## Loops\n",
    "\n",
    "----> Loops are used to repeat instruction."
   ]
  },
  {
   "cell_type": "markdown",
   "metadata": {},
   "source": [
    "#### While loop\n",
    "\n",
    "syntax: initialize, condition , increment/decrement\n",
    "\n",
    "* If condition is always true then loop run infinite time."
   ]
  },
  {
   "cell_type": "code",
   "execution_count": null,
   "metadata": {},
   "outputs": [],
   "source": [
    "i = 1  # i called iterator\n",
    "while i <=5:  # iteration\n",
    "    print(\"true\",i)\n",
    "    i += 1\n",
    "print(i)\n",
    "    "
   ]
  },
  {
   "cell_type": "code",
   "execution_count": null,
   "metadata": {},
   "outputs": [],
   "source": [
    "# Print numbers from 1 to 100\n",
    "\n",
    "i = 1\n",
    "while i<=100:\n",
    "    print(i)\n",
    "    i += 1"
   ]
  },
  {
   "cell_type": "code",
   "execution_count": null,
   "metadata": {},
   "outputs": [],
   "source": [
    "# Print numbers from 100 to 1\n",
    "\n",
    "i = 100\n",
    "while i>=1:\n",
    "    print(i)\n",
    "    i -=1"
   ]
  },
  {
   "cell_type": "code",
   "execution_count": null,
   "metadata": {},
   "outputs": [],
   "source": [
    "# Print the multiplication table of a number n\n",
    "\n",
    "n = int(input(\"Enter a number: \"))\n",
    "\n",
    "i = 1\n",
    "while i<=10:\n",
    "    number = n*i\n",
    "    print(n,\"X\",i ,\"=\",number)\n",
    "    i = i + 1\n",
    "    "
   ]
  },
  {
   "cell_type": "code",
   "execution_count": null,
   "metadata": {},
   "outputs": [],
   "source": [
    "# Print the elements of the following list using loop\n",
    "\n",
    "list = [1,4,9,16,25,36,49,64,81,100]\n",
    "\n",
    "idx = 0\n",
    "while idx<=len(list)-1: # Traverse: shift from one element to another\n",
    "    print(list[idx])\n",
    "    idx += 1"
   ]
  },
  {
   "cell_type": "code",
   "execution_count": null,
   "metadata": {},
   "outputs": [],
   "source": [
    "# Search for a number x in this tuple using loop\n",
    "\n",
    "tuple = (1,4,9,16,25,36,49,64,81,100)\n",
    "\n",
    "x = int(input(\"Enter a number: \"))\n",
    "idx = 0\n",
    "while idx<len(tuple) :\n",
    "    if(tuple[idx] == x):\n",
    "        print(\"found at \",idx)\n",
    "    else:\n",
    "        print('finding')\n",
    "    idx +=1\n",
    "print(x,\"is not present in this tuple\")\n"
   ]
  },
  {
   "cell_type": "markdown",
   "metadata": {},
   "source": [
    "* Break: used to terminate the loop when encountered.\n",
    "\n",
    "* Continue: terminates execution in the current iteration & continues execution of the loop with the next iteration."
   ]
  },
  {
   "cell_type": "code",
   "execution_count": null,
   "metadata": {},
   "outputs": [],
   "source": [
    "i = 1\n",
    "while i<=10:\n",
    "    print(i)\n",
    "    if(i==8):\n",
    "        break\n",
    "    i+=1\n",
    "print(\"end of the loop\")"
   ]
  },
  {
   "cell_type": "code",
   "execution_count": null,
   "metadata": {},
   "outputs": [],
   "source": [
    "i = 1\n",
    "while i<=5:\n",
    "    if(i==3):\n",
    "        i +=1\n",
    "        continue  #skip\n",
    "    print(i)\n",
    "    i+=1\n",
    "print(\"end of the loop\")"
   ]
  },
  {
   "cell_type": "markdown",
   "metadata": {},
   "source": [
    "#### For loop\n",
    "\n",
    "loops are used for sequential traversal. For traversing list, string , tuples etc."
   ]
  },
  {
   "cell_type": "code",
   "execution_count": null,
   "metadata": {},
   "outputs": [],
   "source": [
    "list = [1,2,3,4,5]\n",
    "\n",
    "for ele in list:\n",
    "    if(ele % 2 ==0):\n",
    "        print(ele)\n",
    "        break\n",
    "else:                   # After ending for loop we can use else for another work execution to their complete end.\n",
    "    if(ele == 5):\n",
    "        print(\"even\")\n",
    "    else:\n",
    "        print(\"null\")"
   ]
  },
  {
   "cell_type": "code",
   "execution_count": null,
   "metadata": {},
   "outputs": [],
   "source": [
    "# Print the elements of the following list using a loop:\n",
    "\n",
    "list = [1,4,9,16,25,36,49,64,81,100]\n",
    "for ele in list:\n",
    "    print(ele)"
   ]
  },
  {
   "cell_type": "code",
   "execution_count": null,
   "metadata": {},
   "outputs": [],
   "source": [
    "# Search for a number x in this tuple using loop.\n",
    "\n",
    "tuple = (1,4,9,16,25,36,49,64,81,100)\n",
    "\n",
    "x = int(input(\"Enter a number: \"))\n",
    "\n",
    "# Linear Search\n",
    "idx = 0\n",
    "for ele in tuple:\n",
    "    if(ele == x):\n",
    "        print(x,\"is in tuple at idx \",idx)\n",
    "        break\n",
    "    idx +=1\n",
    "    \n",
    "    "
   ]
  },
  {
   "cell_type": "markdown",
   "metadata": {},
   "source": [
    "* Range Function\n",
    "\n",
    "Range functions returns a sequence of numbers, starting from 0 by default, and increments by 1(by default) , and stop before a specified number.\n",
    "\n",
    "<> range(start?,stop,stepsize?)"
   ]
  },
  {
   "cell_type": "code",
   "execution_count": null,
   "metadata": {},
   "outputs": [],
   "source": [
    "for i in range(5): # range(stop)\n",
    "    print(i)\n",
    "print(\" \")\n",
    "for i in range(1,5): # range(start,stop)\n",
    "    print(i)\n",
    "print(\" \")\n",
    "for i in range(0,10,2):\n",
    "    print(i)  # range(start,stop,stepsize)\n",
    " "
   ]
  },
  {
   "cell_type": "code",
   "execution_count": null,
   "metadata": {},
   "outputs": [],
   "source": [
    "# Print numbers from 1 to 100\n",
    "\n",
    "for i in range(1,101):\n",
    "    print(i)\n"
   ]
  },
  {
   "cell_type": "code",
   "execution_count": null,
   "metadata": {},
   "outputs": [],
   "source": [
    "# Print numbers from 100 to 1\n",
    "\n",
    "for i in range(100,0,-1):\n",
    "    print(i)"
   ]
  },
  {
   "cell_type": "code",
   "execution_count": null,
   "metadata": {},
   "outputs": [],
   "source": [
    "# Print the multiplication table of a number n.\n",
    "\n",
    "n = int(input(\"Enter a number: \"))\n",
    "\n",
    "for i in range(1,11):\n",
    "    num = n * i\n",
    "    print(n,\"X\",i,\"=\",num)"
   ]
  },
  {
   "cell_type": "markdown",
   "metadata": {},
   "source": [
    "* Pass Statement\n",
    "\n",
    "pass is a null statement that does nothing. It is used as a placeholder for future code."
   ]
  },
  {
   "cell_type": "code",
   "execution_count": null,
   "metadata": {},
   "outputs": [],
   "source": [
    "for i in range(5):\n",
    "    pass\n",
    "\n",
    "if i > 5:\n",
    "    pass\n",
    "\n",
    "\n",
    "print(\"some useful work\")"
   ]
  },
  {
   "cell_type": "code",
   "execution_count": null,
   "metadata": {},
   "outputs": [],
   "source": [
    "# Write a program to find the sum of first n natural numbers. \n",
    "\n",
    "n = int(input(\"Enter a number: \"))\n",
    "\n",
    "sum=0\n",
    "for i in range(1,n+1) :\n",
    "    sum +=i\n",
    "       \n",
    "print(\"The sum of 1st\",n,\"natural number: \",sum)"
   ]
  },
  {
   "cell_type": "code",
   "execution_count": null,
   "metadata": {},
   "outputs": [],
   "source": [
    "# Write a program to find the factorial of first n numbers.\n",
    "\n",
    "n = int(input(\"Enter a number: \"))\n",
    "\n",
    "factorial = 1\n",
    "for i in range(1,n+1):\n",
    "    factorial = factorial * i\n",
    "\n",
    "print(\"The factorial of \",n,\"is\",factorial)"
   ]
  },
  {
   "cell_type": "markdown",
   "metadata": {},
   "source": [
    "### Functions\n",
    "\n",
    "* Block of statements that perform a specific task.\n",
    "\n",
    "* Function can perfrom same tasks with different parameters.\n",
    "\n",
    "* It reduce redundance.\n",
    "\n",
    "* Input of function called parameter.\n",
    "\n"
   ]
  },
  {
   "cell_type": "code",
   "execution_count": null,
   "metadata": {},
   "outputs": [],
   "source": [
    "# Syntax\n",
    "\n",
    "# function_name(parameter 1 , parameter 2):\n",
    " #        some work\n",
    "#         return val\n",
    "\n",
    "# function call :- func_name(argument 1 , argument 2)\n"
   ]
  },
  {
   "cell_type": "code",
   "execution_count": null,
   "metadata": {},
   "outputs": [],
   "source": [
    "# Function definition\n",
    "def sum_calculator(a,b):\n",
    "    return a + b\n",
    "\n",
    "sum_calculator(2,7)  # call the function\n",
    "\n",
    "\n"
   ]
  },
  {
   "cell_type": "code",
   "execution_count": null,
   "metadata": {},
   "outputs": [],
   "source": [
    "# Find avg of 3 number\n",
    "\n",
    "def average_finder(a,b,c):\n",
    "    sum = a + b + c\n",
    "    avg = sum/3\n",
    "    return avg\n",
    "\n",
    "average_finder(98,95,97)"
   ]
  },
  {
   "cell_type": "markdown",
   "metadata": {},
   "source": [
    " * Type of functions\n",
    "\n",
    "1. Built-in functions: print(), len(), type(), range()\n",
    "\n",
    "2. User defined functions"
   ]
  },
  {
   "cell_type": "markdown",
   "metadata": {},
   "source": [
    "* Default Parameters\n",
    "\n",
    " Assigning a default value to parameter, which is used when no argument is passed."
   ]
  },
  {
   "cell_type": "code",
   "execution_count": null,
   "metadata": {},
   "outputs": [],
   "source": [
    "# Write a program to print the length of a list\n",
    "\n",
    "list = [\"Delhi\",\"Mumbai\",\"Jaipur\",\"Chennai\",\"Surat\"]\n",
    "\n",
    "def length(list):\n",
    "    return len(list)\n",
    "\n",
    "length(list)"
   ]
  },
  {
   "cell_type": "code",
   "execution_count": null,
   "metadata": {},
   "outputs": [],
   "source": [
    "# Write a program to print the elements of a list in a single line.\n",
    "\n",
    "list = [\"India\",\"Japan\",\"USA\",\"UK\",\"China\"]\n",
    "\n",
    "def print_list(list):\n",
    "    return (list)\n",
    "\n",
    "print_list(list)"
   ]
  },
  {
   "cell_type": "code",
   "execution_count": null,
   "metadata": {},
   "outputs": [],
   "source": [
    "# Write a program to find the factorial of n\n",
    "\n",
    "n = int(input(\"Enter a number: \"))\n",
    "\n",
    "def factorial_finder(n):\n",
    "    factorial = 1\n",
    "    for i in range(1,n+1):\n",
    "        factorial *= i\n",
    "\n",
    "    return factorial\n",
    "\n",
    "factorial_finder(n)"
   ]
  },
  {
   "cell_type": "code",
   "execution_count": null,
   "metadata": {},
   "outputs": [],
   "source": [
    "# Write a program to convert USD into INR\n",
    "\n",
    "amount = float(input(\"Enter an amount: \"))\n",
    "\n",
    "def currency_convertor(amount):\n",
    "    conversion = amount*80\n",
    "    return conversion\n",
    "\n",
    "currency_convertor(amount)"
   ]
  },
  {
   "cell_type": "code",
   "execution_count": null,
   "metadata": {},
   "outputs": [],
   "source": [
    "# Write a function to find odd or even number\n",
    "\n",
    "def odd_even_finder(n):\n",
    "    if(n%2==0):\n",
    "        print(\"Even\")\n",
    "    else:\n",
    "        print(\"Odd\")\n",
    "\n",
    "\n",
    "odd_even_finder(11)"
   ]
  },
  {
   "cell_type": "markdown",
   "metadata": {},
   "source": [
    "#### Recursion\n",
    "\n",
    "When a function call itself repeatedly.\n",
    "\n",
    "It similiar to loop."
   ]
  },
  {
   "cell_type": "code",
   "execution_count": null,
   "metadata": {},
   "outputs": [],
   "source": [
    "def show(n):\n",
    "    if(n==0):  # Base Case: It decide recursion when should be stop.\n",
    "        return\n",
    "    print(n)\n",
    "    show(n-1)\n",
    "\n",
    "show(5)\n",
    "    "
   ]
  },
  {
   "cell_type": "markdown",
   "metadata": {},
   "source": [
    "#### Call Stack\n",
    "\n",
    "When we call one function onto another function , it become layers of function call like stack of books then it is called call stack."
   ]
  },
  {
   "cell_type": "code",
   "execution_count": null,
   "metadata": {},
   "outputs": [],
   "source": [
    "def fact(n):\n",
    "    if(n==0 or n==1):\n",
    "        return 1\n",
    "    else:\n",
    "        return n*fact(n-1)\n",
    "    \n",
    "fact(6)"
   ]
  },
  {
   "cell_type": "markdown",
   "metadata": {},
   "source": [
    "#### Recurence Relation:\n",
    " \n",
    "Those values which are reoccur or come again  is called recurence relation. It happen in recursion."
   ]
  },
  {
   "cell_type": "code",
   "execution_count": null,
   "metadata": {},
   "outputs": [],
   "source": [
    "# Write a recursive function to calculate the sum of first n natural numbers.\n",
    "\n",
    "def sum_calculator(n):\n",
    "    if(n==0 or n==1):\n",
    "        return 1\n",
    "    else:\n",
    "        return n + sum_calculator(n-1)\n",
    "    \n",
    "sum_calculator(6)\n"
   ]
  },
  {
   "cell_type": "code",
   "execution_count": null,
   "metadata": {},
   "outputs": [],
   "source": [
    "# Write a recursive function to print all element in a list\n",
    "\n",
    "list = [1,4,6,8,5,9]\n",
    "\n",
    "def print_list(list,idx=0):\n",
    "    if(idx == len(list)):\n",
    "        return\n",
    "    print(list[idx])\n",
    "    print_list(list,idx+1)\n",
    "    \n",
    "    \n",
    "    \n",
    "print_list(list)\n"
   ]
  },
  {
   "cell_type": "markdown",
   "metadata": {},
   "source": [
    "### Exceptional Handling\n",
    "\n",
    "Exception handling deals with such event where program does not run or to avoid system crashing.\n",
    "\n",
    "Python has many built-in exception that are raised when program encounters an error.\n",
    "\n",
    "When these exception occur, the Python interpretor stops the current process and pass it to the calling process until it is handled. If not handled, the program will crash.\n"
   ]
  },
  {
   "cell_type": "markdown",
   "metadata": {},
   "source": [
    "#### Try....Except\n",
    "\n",
    "* The code in try block runs when there is no error.\n",
    "\n",
    "* If the try block catches the error, then the except block is executed."
   ]
  },
  {
   "cell_type": "code",
   "execution_count": null,
   "metadata": {},
   "outputs": [],
   "source": [
    "def divide_numbers(a, b):\n",
    "    try:\n",
    "        # Attempt to divide a by b\n",
    "        result = a / b\n",
    "    except ZeroDivisionError:\n",
    "        # This block will run if a ZeroDivisionError occurs\n",
    "        print(\"Error: Cannot divide by zero.\")\n",
    "\n",
    "divide_numbers(10,0)"
   ]
  },
  {
   "cell_type": "markdown",
   "metadata": {},
   "source": [
    "#### Else and Finally\n",
    "\n",
    "* else block: This code runs if no exceptions occur in the try block.\n",
    "\n",
    "* finally block: This code always runs, regardless of whether an exception occurred or not."
   ]
  },
  {
   "cell_type": "code",
   "execution_count": null,
   "metadata": {},
   "outputs": [],
   "source": [
    "def divide_numbers(a, b):\n",
    "    try:\n",
    "        # Attempt to divide a by b\n",
    "        result = a / b\n",
    "    except ZeroDivisionError:\n",
    "        # This block will run if a ZeroDivisionError occurs\n",
    "        print(\"Error: Cannot divide by zero.\")\n",
    "    else:\n",
    "        # This block will run if no exceptions occur in the try block\n",
    "        print(f\"The result is: {result}\")\n",
    "    finally:\n",
    "        # This block will always run, regardless of whether an exception occurred\n",
    "        print(\"Execution of the try-except block is complete.\")\n",
    "\n",
    "# Example 1: No exception occurs\n",
    "divide_numbers(10, 2)\n",
    "\n",
    "# Example 2: An exception occurs (division by zero)\n",
    "divide_numbers(10, 0)\n"
   ]
  },
  {
   "cell_type": "markdown",
   "metadata": {},
   "source": [
    "### OOPS\n",
    "\n",
    "* To map with real world scenarios, we started using objects in code.\n",
    "This is called object oriented programming.\n",
    "\n",
    "* To increase reusiblity, we use oops.\n",
    "\n",
    "* Class is a bllueprint for creating objects.\n",
    "\n",
    "* Objects also called as instances. They occupied spaces in the memory.\n",
    "\n",
    "\n",
    "\n",
    "\n"
   ]
  },
  {
   "cell_type": "code",
   "execution_count": null,
   "metadata": {},
   "outputs": [],
   "source": [
    "# Creating class\n",
    "\n",
    "class Student:\n",
    "    name =  input(\"Enter your name: \")\n",
    "    print(\"Your name saved in Student Class\")\n",
    "# Creating object(instance)\n",
    "\n",
    "s1 = Student()\n",
    "print(s1.name)\n",
    "print(s1)\n"
   ]
  },
  {
   "cell_type": "markdown",
   "metadata": {},
   "source": [
    "### Constructor\n",
    "\n",
    "All class have a function called __init__(), which is always executed when the classs is being initiated.\n",
    "\n",
    "If we do not make constructor, then python automatically create constructor.\n",
    "\n",
    "We need to pass at least one parameter (self)\n",
    "\n",
    "#### self parameter\n",
    "\n",
    "* The self parameter is a reference to the current instance of the class, and is used to access variables that belongs to the class.\n",
    "    "
   ]
  },
  {
   "cell_type": "code",
   "execution_count": null,
   "metadata": {},
   "outputs": [],
   "source": [
    "class Student:\n",
    "    college_name = \"Poornima Engineering And Technology\"  # Class Attribute\n",
    "    # Default Constructor\n",
    "    def __init__(self):\n",
    "        pass\n",
    "\n",
    "    # Parameterized Constructor\n",
    "    def __init__(self,name,marks):\n",
    "        self.name = name          # Here, self.name and self.marks are instances attributes\n",
    "        self.marks = marks\n",
    "\n",
    "print(Student.college_name)\n",
    "\n",
    "s1 = Student(\"Shreya\",97)\n",
    "print(\"Student name is \",s1.name,\" \" ,\"Marks = \",s1.marks)\n",
    "\n",
    "s2 = Student(\"Arjun\",90)\n",
    "print(\"Student name is \",s2.name,\" \" ,\"Marks = \", s2.marks)"
   ]
  },
  {
   "cell_type": "markdown",
   "metadata": {},
   "source": [
    "### Attribute\n",
    "\n",
    "Attribute = Data, Variables\n",
    "\n",
    "* Types of Attribute\n",
    "\n",
    "\n",
    "\n",
    "1. Class attribute = Those attributes which are own by class. (class.attr). The purpose of this attributes is to store data in one memory location(where we do not want to change data) and if object does not pass any variable then by default it show class attributes.\n",
    "\n",
    "\n",
    "2. Object attribute = Those attributes which vary for every object. (obj.attr)\n",
    "\n",
    "\n",
    "\n",
    "* Obj.attr have higher precedence than class.attr (obj.attr>class.attr). This means when we have same class attribute and obj attribute and we call class, then obj attribute value shows in print function."
   ]
  },
  {
   "cell_type": "markdown",
   "metadata": {},
   "source": [
    "### Methods\n",
    "\n",
    "Methods are functions that belongs to objects."
   ]
  },
  {
   "cell_type": "code",
   "execution_count": null,
   "metadata": {},
   "outputs": [],
   "source": [
    "class Student:\n",
    "    \n",
    "    def __init__(self,name):\n",
    "        self.name = name\n",
    "\n",
    "    def hello(self):\n",
    "        print(\"Hello\",self.name)\n",
    "\n",
    "    def Marks(self,marks):\n",
    "        self.marks = marks\n",
    "        return self.marks\n",
    "\n",
    "s1 = Student(\"Amit\")\n",
    "s1.hello()\n",
    "s1.Marks(90)"
   ]
  },
  {
   "cell_type": "code",
   "execution_count": 53,
   "metadata": {},
   "outputs": [
    {
     "name": "stdout",
     "output_type": "stream",
     "text": [
      "Hi Ajay, your average score is: 93.00\n"
     ]
    }
   ],
   "source": [
    "class Student:\n",
    "    def __init__(self, name, marks):\n",
    "        self.name = name\n",
    "        self.marks = marks\n",
    "\n",
    "    def get_average(self):\n",
    "        total = sum(self.marks)  # Sum of the marks\n",
    "        average = total / len(self.marks)  # Average calculation\n",
    "        print(f\"Hi {self.name}, your average score is: {average:.2f}\")\n",
    "\n",
    "# Creating an instance of the Student class\n",
    "s1 = Student(\"Ajay\", [90, 91, 98])\n",
    "\n",
    "# Calling the get_average method\n",
    "s1.get_average()\n"
   ]
  },
  {
   "cell_type": "markdown",
   "metadata": {},
   "source": [
    "### Static Methods\n",
    "\n",
    "Methods that don't use the self parameter(work at class level)\n",
    "\n",
    "* Decorators :\n",
    "\n",
    "Decorators allow us to wrap another function in order to extend the behaviour of the wrapped function, without permanently modifying it."
   ]
  },
  {
   "cell_type": "code",
   "execution_count": 1,
   "metadata": {},
   "outputs": [],
   "source": [
    "# class Student:\n",
    "   # @staticmethod   ---> Decorator\n",
    "\n",
    "# def college():\n",
    " # print(\"ABC College\")\n",
    "   "
   ]
  },
  {
   "cell_type": "code",
   "execution_count": 8,
   "metadata": {},
   "outputs": [
    {
     "name": "stdout",
     "output_type": "stream",
     "text": [
      "hello\n"
     ]
    }
   ],
   "source": [
    "class greeting:\n",
    "    @staticmethod\n",
    "    def hello():\n",
    "        print(\"hello\")\n",
    "\n",
    "s1 = greeting()\n",
    "s1.hello()"
   ]
  },
  {
   "cell_type": "markdown",
   "metadata": {},
   "source": [
    "## Abstraction(*imp*)\n",
    "\n",
    "-- Hiding the implementation details of a class and only showing the essential features to the user."
   ]
  },
  {
   "cell_type": "code",
   "execution_count": 9,
   "metadata": {},
   "outputs": [
    {
     "name": "stdout",
     "output_type": "stream",
     "text": [
      "Car started....\n"
     ]
    }
   ],
   "source": [
    "class Car:\n",
    "    def __init__(self):\n",
    "        self.acc = False\n",
    "        self.brk = False\n",
    "        self.clutch = False\n",
    "    def start(self):\n",
    "        self.clutch = True\n",
    "        self.acc = True\n",
    "        print(\"Car started....\")\n",
    "\n",
    "car1 = Car()\n",
    "car1.start()"
   ]
  },
  {
   "cell_type": "markdown",
   "metadata": {},
   "source": [
    "## Encapsulation(*imp*)\n",
    "\n",
    "-- Wrapped data(attribute) and functions(member functions) into a single unit(object)"
   ]
  },
  {
   "cell_type": "code",
   "execution_count": 22,
   "metadata": {},
   "outputs": [
    {
     "name": "stdout",
     "output_type": "stream",
     "text": [
      "Credited 12000.00 rs.\n",
      "New balance is 22000.00 rs.\n",
      "Total balance is 22000.00 rs\n"
     ]
    }
   ],
   "source": [
    "class Account:\n",
    "    def __init__(self, account_no, balance):\n",
    "        self.account_no = account_no\n",
    "        self.balance = balance\n",
    "\n",
    "    def debit(self, amount):\n",
    "        if amount <= self.balance:\n",
    "            self.balance -= amount\n",
    "            print(f\"Debited {amount:.2f} rs. New balance is {self.balance:.2f} rs.\")\n",
    "        else:\n",
    "            print(\"Insufficient balance\")\n",
    "\n",
    "    def credit(self, amount):\n",
    "        self.balance += amount\n",
    "        print(f\"Credited {amount:.2f} rs.\")\n",
    "        print(f\"New balance is {self.balance:.2f} rs.\")\n",
    "\n",
    "    def print_balance(self):\n",
    "        print(f\"Total balance is {self.balance:.2f} rs\")\n",
    "\n",
    "# User Interaction\n",
    "try:\n",
    "    account_no = int(input(\"Enter account no: \"))\n",
    "    balance = float(input(\"Enter initial balance: \"))\n",
    "\n",
    "    s1 = Account(account_no, balance)\n",
    "\n",
    "    while True:\n",
    "        action = input(\"Enter action (debit/credit/print/exit): \").lower()\n",
    "        if action == \"debit\":\n",
    "            amount = float(input(\"Enter debit amount: \"))\n",
    "            s1.debit(amount)\n",
    "        elif action == \"credit\":\n",
    "            amount = float(input(\"Enter credit amount: \"))\n",
    "            s1.credit(amount)\n",
    "        elif action == \"print\":\n",
    "            s1.print_balance()\n",
    "        elif action == \"exit\":\n",
    "            break\n",
    "        else:\n",
    "            print(\"Invalid action. Please enter again.\")\n",
    "\n",
    "except Exception as e:\n",
    "    print(f\"An error occurred: {e}\")\n"
   ]
  },
  {
   "cell_type": "markdown",
   "metadata": {},
   "source": [
    "### Del keyboard\n",
    "\n",
    "Used to delete object properties or object itself.\n",
    "\n"
   ]
  },
  {
   "cell_type": "code",
   "execution_count": 30,
   "metadata": {},
   "outputs": [
    {
     "name": "stdout",
     "output_type": "stream",
     "text": [
      "Bhavay\n"
     ]
    }
   ],
   "source": [
    "class Student:\n",
    "    def __init__(self,name):\n",
    "        self.name = name\n",
    "\n",
    "s1 = Student(\"Bhavay\")\n",
    "print(s1.name)\n",
    "# del s1\n",
    "del s1.name"
   ]
  },
  {
   "cell_type": "markdown",
   "metadata": {},
   "source": [
    "### Private(like) attributes & methods\n",
    "\n",
    "**Conceptual Implementations in Python**\n",
    "\n",
    "Private attributes & methods are meant to be used only within the class and are not accessible from outside the class."
   ]
  },
  {
   "cell_type": "code",
   "execution_count": 41,
   "metadata": {},
   "outputs": [
    {
     "name": "stdout",
     "output_type": "stream",
     "text": [
      "1234\n",
      "abcd\n"
     ]
    }
   ],
   "source": [
    "class Account:\n",
    "    def __init__(self,acc_no,acc_pass):\n",
    "        self.acc_no = acc_no\n",
    "        self.__acc_pass = acc_pass   #__ = private attribute\n",
    "\n",
    "    def __reset_pass(self):    #__ = private method\n",
    "        print(self.__acc_pass)\n",
    "        \n",
    "    def pass_word(self):\n",
    "        self.__reset_pass()\n",
    "\n",
    "acc1 = Account(\"1234\",\"abcd\")\n",
    "print(acc1.acc_no)\n",
    "acc1.pass_word()\n"
   ]
  },
  {
   "cell_type": "markdown",
   "metadata": {},
   "source": [
    "## Inheritance(*imp*)\n",
    "\n",
    "When one class(child/derived) derives the properties & methods of another class(parent/base)."
   ]
  },
  {
   "cell_type": "code",
   "execution_count": 2,
   "metadata": {},
   "outputs": [
    {
     "name": "stdout",
     "output_type": "stream",
     "text": [
      "fortuner\n",
      "Car started...\n",
      "None\n"
     ]
    }
   ],
   "source": [
    "class Car:\n",
    "    @staticmethod\n",
    "    def start():\n",
    "        print(\"Car started...\")\n",
    "    \n",
    "    @staticmethod\n",
    "    def stop():\n",
    "        print(\"Car stopped...\")\n",
    "\n",
    "class ToyotoCar(Car):\n",
    "    def __init__(self,name):\n",
    "        self.name = name\n",
    "\n",
    "car1 = ToyotoCar(\"fortuner\")\n",
    "car2 = ToyotoCar(\"prius\")\n",
    "\n",
    "print(car1.name)\n",
    "print(car1.start())"
   ]
  },
  {
   "cell_type": "markdown",
   "metadata": {},
   "source": [
    "### Type of  Inheritance"
   ]
  },
  {
   "cell_type": "markdown",
   "metadata": {},
   "source": [
    "* #### Single Inheritance := One child class inherit properties from one parent class"
   ]
  },
  {
   "cell_type": "code",
   "execution_count": 3,
   "metadata": {},
   "outputs": [
    {
     "name": "stdout",
     "output_type": "stream",
     "text": [
      "fortuner\n",
      "Car started...\n",
      "None\n"
     ]
    }
   ],
   "source": [
    "class Car:\n",
    "    @staticmethod\n",
    "    def start():\n",
    "        print(\"Car started...\")\n",
    "    \n",
    "    @staticmethod\n",
    "    def stop():\n",
    "        print(\"Car stopped...\")\n",
    "\n",
    "class ToyotoCar(Car):\n",
    "    def __init__(self,name):\n",
    "        self.name = name\n",
    "\n",
    "car1 = ToyotoCar(\"fortuner\")\n",
    "car2 = ToyotoCar(\"prius\")\n",
    "\n",
    "print(car1.name)\n",
    "print(car1.start())"
   ]
  },
  {
   "cell_type": "markdown",
   "metadata": {},
   "source": [
    "* #### Multi - level Inheritance := base class properties goes to one derived class then this derived class properties goes to another derived class. This last derived class have properties of both base and derived class."
   ]
  },
  {
   "cell_type": "code",
   "execution_count": 4,
   "metadata": {},
   "outputs": [],
   "source": [
    "#  \n",
    "#           ANOTHER DERIVED CLASS\n",
    "#                  ^\n",
    "#                  |\n",
    "#                  |\n",
    "#           DERIVED CLASS\n",
    "#                  ^\n",
    "#                  |\n",
    "#                  |\n",
    "#              BASE CLASS\n"
   ]
  },
  {
   "cell_type": "code",
   "execution_count": 5,
   "metadata": {},
   "outputs": [
    {
     "name": "stdout",
     "output_type": "stream",
     "text": [
      "Car started...\n",
      "None\n"
     ]
    }
   ],
   "source": [
    "class Car:\n",
    "    @staticmethod\n",
    "    def start():\n",
    "        print(\"Car started...\")\n",
    "    \n",
    "    @staticmethod\n",
    "    def stop():\n",
    "        print(\"Car stopped...\")\n",
    "\n",
    "class ToyotoCar(Car):\n",
    "    def __init__(self,brand):\n",
    "        self.brand = brand\n",
    "\n",
    "class Fortuner(ToyotoCar):\n",
    "    def __init__(self,type):\n",
    "        self.type = type\n",
    "\n",
    "car1 = Fortuner(\"Diesel\")\n",
    "print(car1.start())"
   ]
  },
  {
   "cell_type": "markdown",
   "metadata": {},
   "source": [
    "* #### Multiple Inheritance := Derived class can inherit properties from two or more than two base class."
   ]
  },
  {
   "cell_type": "code",
   "execution_count": 7,
   "metadata": {},
   "outputs": [
    {
     "name": "stdout",
     "output_type": "stream",
     "text": [
      "Welcome to class C\n",
      "Welcome to class B\n",
      "Welcome to class A\n"
     ]
    }
   ],
   "source": [
    "class A:\n",
    "    varA = \"Welcome to class A\"\n",
    "\n",
    "class B:\n",
    "    varB = \"Welcome to class B\"\n",
    "\n",
    "class C(A,B):\n",
    "    varC = \"Welcome to class C\"\n",
    "\n",
    "c1 = C()\n",
    "\n",
    "print(c1.varC)\n",
    "print(c1.varB)\n",
    "print(c1.varA)"
   ]
  },
  {
   "cell_type": "markdown",
   "metadata": {},
   "source": [
    "#### Super Method\n",
    "\n",
    "super() method is used to access methods of the parent class."
   ]
  },
  {
   "cell_type": "code",
   "execution_count": 9,
   "metadata": {},
   "outputs": [
    {
     "name": "stdout",
     "output_type": "stream",
     "text": [
      "electric\n"
     ]
    }
   ],
   "source": [
    "class Car:\n",
    "    def __init__(self,type):\n",
    "        self.type = type\n",
    "    @staticmethod\n",
    "    def start():\n",
    "        print(\"Car started...\")\n",
    "    \n",
    "    @staticmethod\n",
    "    def stop():\n",
    "        print(\"Car stopped...\")\n",
    "\n",
    "class ToyotoCar(Car):\n",
    "    def __init__(self,name,type):\n",
    "        self.name= name\n",
    "        super().__init__(type)\n",
    "\n",
    "car1 = ToyotoCar(\"prius\",\"electric\")\n",
    "print(car1.type)\n"
   ]
  },
  {
   "cell_type": "markdown",
   "metadata": {},
   "source": [
    "#### Class Method\n",
    "\n",
    "A class method is bound to the class & receives the class as an implicit first argument.\n",
    "\n",
    "<> Static method can't access or modify class state & generally for utility."
   ]
  },
  {
   "cell_type": "code",
   "execution_count": 10,
   "metadata": {},
   "outputs": [],
   "source": [
    "# class Student:\n",
    "#   @classmethod\n",
    "#   def college(cls):\n",
    "#       pass"
   ]
  },
  {
   "cell_type": "code",
   "execution_count": 15,
   "metadata": {},
   "outputs": [
    {
     "name": "stdout",
     "output_type": "stream",
     "text": [
      "Rahul Kumar\n",
      "Rahul Kumar\n"
     ]
    }
   ],
   "source": [
    "class Person:\n",
    "    name = \"anonymous\"\n",
    "\n",
    "    @classmethod\n",
    "    def changeName(cls, name):\n",
    "        cls.name = name\n",
    "\n",
    "p1 = Person()\n",
    "p1.changeName(\"Rahul Kumar\")\n",
    "print(p1.name)\n",
    "print(Person.name)"
   ]
  },
  {
   "cell_type": "markdown",
   "metadata": {},
   "source": [
    "#### Property\n",
    "\n",
    "We use @property decorator on any method in the class to use the method as a property."
   ]
  },
  {
   "cell_type": "code",
   "execution_count": 18,
   "metadata": {},
   "outputs": [
    {
     "name": "stdout",
     "output_type": "stream",
     "text": [
      "98.0%\n",
      "94.0%\n"
     ]
    }
   ],
   "source": [
    "class Student:\n",
    "    def __init__(self,phy,chem,maths):\n",
    "        self.phy = phy\n",
    "        self.chem = chem\n",
    "        self.maths = maths\n",
    "\n",
    "    @property\n",
    "    def percentage(self):\n",
    "        return str((self.phy + self.chem + self.maths)/3) + \"%\"\n",
    "\n",
    "st1 = Student(98,97,99)\n",
    "print(st1.percentage)\n",
    "st1.phy = 86\n",
    "print(st1.percentage)\n",
    "\n"
   ]
  },
  {
   "cell_type": "markdown",
   "metadata": {},
   "source": [
    "### Polymorphism : Operator Overloading\n",
    "\n",
    "When the same operator is allowed to have different meaning according to the context."
   ]
  },
  {
   "cell_type": "code",
   "execution_count": 20,
   "metadata": {},
   "outputs": [
    {
     "name": "stdout",
     "output_type": "stream",
     "text": [
      "4\n",
      "rosewood\n",
      "[1, 2, 3, 4, 5, 6]\n"
     ]
    }
   ],
   "source": [
    "print(1+3) #4\n",
    "print(\"rose\"+ \"wood\")  #concatenate\n",
    "print([1,2,3] + [4,5,6])  #merge"
   ]
  },
  {
   "cell_type": "markdown",
   "metadata": {},
   "source": [
    "* Dunder Function : logic define by user"
   ]
  },
  {
   "cell_type": "code",
   "execution_count": 29,
   "metadata": {},
   "outputs": [
    {
     "name": "stdout",
     "output_type": "stream",
     "text": [
      "1 i + 3 j\n",
      "2 i + 3 j\n",
      "3 i + 6 j\n",
      "None\n"
     ]
    }
   ],
   "source": [
    "class Complex:\n",
    "    def __init__(self,real,img):\n",
    "        self.real = real\n",
    "        self.img = img\n",
    "\n",
    "    def show(self):\n",
    "        print(self.real,\"i\",\"+\" ,self.img,\"j\")\n",
    "\n",
    "    def __add__(self,num2):    # Dunder Function = __add__\n",
    "        newReal = self.real + num2.real\n",
    "        newImg = self.img + num2.img \n",
    "        return Complex(newReal,newImg)\n",
    "    \n",
    "\n",
    "num1 = Complex(1,3)\n",
    "num1.show()\n",
    "num2 = Complex(2,3)\n",
    "num2.show()\n",
    "\n",
    "num3 = num1 + num2\n",
    "print(num3.show())\n"
   ]
  },
  {
   "cell_type": "code",
   "execution_count": 16,
   "metadata": {},
   "outputs": [
    {
     "name": "stdout",
     "output_type": "stream",
     "text": [
      "Area of the circle: 78.5 cm(sq)\n",
      "Perimeter of the circle: 31 cm\n"
     ]
    }
   ],
   "source": [
    "# Define a Circle classs to create a circle with radius r using the constructor.\n",
    "#  Define an Area() method of the class which calculates the area of the circle. \n",
    "# Define a perimeter() method of the class which allows you to calculate perimeter of the circle.\n",
    "\n",
    "class Circle:\n",
    "\n",
    "    def __init__(self,radius):\n",
    "        self.radius = radius\n",
    "\n",
    "    \n",
    "    def Area(self):\n",
    "        return 3.14*self.radius*self.radius\n",
    "    \n",
    "    def Perimeter(self):\n",
    "        return 2*3.14*self.radius\n",
    "\n",
    "    \n",
    "c1 = Circle(5)\n",
    "print(f\"Area of the circle: {c1.Area()} cm(sq)\")\n",
    "print(f\"Perimeter of the circle: {int(c1.Perimeter())} cm\")"
   ]
  },
  {
   "cell_type": "code",
   "execution_count": 22,
   "metadata": {},
   "outputs": [
    {
     "name": "stdout",
     "output_type": "stream",
     "text": [
      "Employee role:  Senior engineer\n",
      "Employee department:  cs-it\n",
      "Employee salary:  320000\n",
      "Name of the engineer:  Rahul Trivedi\n",
      "Age:  27\n"
     ]
    }
   ],
   "source": [
    "# Define a Employee class with attribute role, department and salary. \n",
    "# This class also showDetails() method. \n",
    "# Create an Engineer class that inherit properties from Employee & has additional attributes : name & age.\n",
    "\n",
    "class Employee:\n",
    "    \n",
    "    def __init__(self):\n",
    "        self.role = input(\"Enter your role: \")\n",
    "        self.department = input(\"Enter your department: \")\n",
    "        self.salary = int(input(\"Enter a salary: \"))\n",
    "\n",
    "    def showDetails(self):\n",
    "        print(\"Employee role: \",self.role)\n",
    "        print(\"Employee department: \",self.department)\n",
    "        print(\"Employee salary: \",self.salary)\n",
    "\n",
    "\n",
    "class Engineer(Employee):\n",
    "    def __init__(self,name,age):\n",
    "        self.name = name\n",
    "        self.age = age\n",
    "        print(\"Name of the engineer: \",self.name)\n",
    "        print(\"Age: \",age)\n",
    "        \n",
    "e1 = Employee()\n",
    "e1.showDetails()\n",
    "e1 = Engineer(\"Rahul Trivedi\",27)\n"
   ]
  },
  {
   "cell_type": "code",
   "execution_count": 30,
   "metadata": {},
   "outputs": [
    {
     "name": "stdout",
     "output_type": "stream",
     "text": [
      "True\n"
     ]
    }
   ],
   "source": [
    "# Create a class called Order which stores item & its price. \n",
    "# Use Dunger function__gt__() to convey that: order1> order2 if price of order>price of order 2\n",
    "\n",
    "class Order:\n",
    "    def __init__(self, price):\n",
    "        self.item = input(\"Enter item name: \")\n",
    "        self.price = price\n",
    "\n",
    "    def __gt__(self, other):\n",
    "        return self.price > other.price\n",
    "\n",
    "order1 = Order(40)\n",
    "order2 = Order(30)\n",
    "print(order1 > order2)\n"
   ]
  },
  {
   "cell_type": "markdown",
   "metadata": {},
   "source": [
    "### File I/O \n",
    "\n",
    "Python can be used to perfrom operations on a file.(read & write data).\n",
    "\n",
    "* #### Type of all files\n",
    "\n",
    "1. Text Files: .txt,.docx,.log etc.\n",
    "\n",
    "2. Binary Files: .mp4, .mov , .jpeg etc."
   ]
  },
  {
   "cell_type": "markdown",
   "metadata": {},
   "source": [
    "#### Open , Read & Close file\n",
    "\n",
    "We have to open file before reading or writing."
   ]
  },
  {
   "cell_type": "code",
   "execution_count": 36,
   "metadata": {},
   "outputs": [],
   "source": [
    "\n",
    "# f = open(\"file_name\",\"mode\")\n",
    "        # file_name                # r:read mode        # x: create a new file and open it for writng             # t: text mode(default)\n",
    "        # sample.txt               # w: write mode      # b: binary mode\n",
    "        # demo.docx                # a: append mode     # +: open a disk file for updating(reading and writing)\n",
    "\n",
    "# data = f.read()\n",
    "# f.close()\n"
   ]
  },
  {
   "cell_type": "code",
   "execution_count": 41,
   "metadata": {},
   "outputs": [
    {
     "name": "stdout",
     "output_type": "stream",
     "text": [
      " enim contingit omnibus fidibus, ut incontentae sint.\n",
      "\n",
      "<class 'str'>\n"
     ]
    }
   ],
   "source": [
    "f = open('sample2.txt','r')\n",
    "data = f.read(5)\n",
    "data = f.readline()  # read one line at a time, in output we see space because of \\n character\n",
    "print(data)\n",
    "print(type(data))\n",
    "f.close()"
   ]
  },
  {
   "cell_type": "markdown",
   "metadata": {},
   "source": [
    "#### Writing to a file"
   ]
  },
  {
   "cell_type": "code",
   "execution_count": 43,
   "metadata": {},
   "outputs": [],
   "source": [
    "f = open('sample2.txt','w')  # Create file and write\n",
    "\n",
    "f.write(\"I want to learn python\")\n",
    "\n",
    "f.close()"
   ]
  },
  {
   "cell_type": "code",
   "execution_count": 46,
   "metadata": {},
   "outputs": [],
   "source": [
    "f = open('sample2.txt','a')  # add to the existing file\n",
    "\n",
    "f.write(\"\\nI want to learn python\")\n",
    "\n",
    "f.close()"
   ]
  },
  {
   "cell_type": "code",
   "execution_count": 48,
   "metadata": {},
   "outputs": [
    {
     "name": "stdout",
     "output_type": "stream",
     "text": [
      "ant to learn pythonI want to learn python\n",
      "I want to learn python\n",
      "I want to learn python\n"
     ]
    }
   ],
   "source": [
    "f = open('sample2.txt','r+')  # overwrite in the starting to the existing file and pointer at the start\n",
    "\n",
    "f.write(\"abc\")\n",
    "print(f.read())\n",
    "f.close()"
   ]
  },
  {
   "cell_type": "code",
   "execution_count": 50,
   "metadata": {},
   "outputs": [
    {
     "name": "stdout",
     "output_type": "stream",
     "text": [
      "\n",
      "I want to learn python\n"
     ]
    }
   ],
   "source": [
    "f = open('sample2.txt','w+')  # truncate(wiped out) the existing file\n",
    "\n",
    "print(f.read())\n",
    "print(\"I want to learn python\")\n",
    "\n",
    "f.close()"
   ]
  },
  {
   "cell_type": "code",
   "execution_count": 54,
   "metadata": {},
   "outputs": [],
   "source": [
    "f = open('sample2.txt','a+')   # append to  the existing file and pointer at the end\n",
    "\n",
    "f.write(\"abc\")\n",
    "\n",
    "f.close()"
   ]
  },
  {
   "cell_type": "markdown",
   "metadata": {},
   "source": [
    "#### With Syntax"
   ]
  },
  {
   "cell_type": "code",
   "execution_count": 57,
   "metadata": {},
   "outputs": [
    {
     "name": "stdout",
     "output_type": "stream",
     "text": [
      "abc\n"
     ]
    }
   ],
   "source": [
    "# With automatically close the file\n",
    "\n",
    "with open(\"sample2.txt\",\"r\") as f:      # as = alias(give same thing different name)\n",
    "    data = f.read()\n",
    "    print(data)"
   ]
  },
  {
   "cell_type": "markdown",
   "metadata": {},
   "source": [
    "### Deleting a file\n",
    "\n",
    "-- using the os module\n",
    "\n",
    "-- Module(like a code library) is a file written by another programmer that generally has a functions we can use."
   ]
  },
  {
   "cell_type": "code",
   "execution_count": 58,
   "metadata": {},
   "outputs": [],
   "source": [
    "import os\n",
    "os.remove(\"sample2.txt\")"
   ]
  },
  {
   "cell_type": "code",
   "execution_count": 61,
   "metadata": {},
   "outputs": [],
   "source": [
    "# Create a new file \"practice.txt\" using python. And the following data in it.\n",
    "\n",
    "with open(\"practice.txt\",\"w\") as f:\n",
    "    f.write(\"Hi Everyone\\n We are learning file I/O \\n using Java.\\n I like programming in Java.\")"
   ]
  },
  {
   "cell_type": "code",
   "execution_count": 64,
   "metadata": {},
   "outputs": [
    {
     "name": "stdout",
     "output_type": "stream",
     "text": [
      "Hi Everyone\n",
      " We are learning file I/O \n",
      " using Python.\n",
      " I like programming in Python.\n"
     ]
    }
   ],
   "source": [
    "# WAF that replace all occurences of \"java\" with \"python\" in above file.\n",
    "\n",
    "with open(\"practice.txt\",\"r\") as f:\n",
    "    data = f.read()\n",
    "\n",
    "new_data = data.replace(\"Java\",\"Python\")\n",
    "print(new_data)\n",
    "\n",
    "with open(\"practice.txt\",\"w\") as f:\n",
    "    f.write(new_data)"
   ]
  },
  {
   "cell_type": "code",
   "execution_count": 68,
   "metadata": {},
   "outputs": [
    {
     "name": "stdout",
     "output_type": "stream",
     "text": [
      "exist\n"
     ]
    }
   ],
   "source": [
    "# Search if the word \"learning\" exists in the file or not.\n",
    "def check_for_word():\n",
    "    with open(\"practice.txt\",\"r\") as f:\n",
    "        data = f.read()\n",
    "        if(data.find(\"learning\")):\n",
    "            print(\"exist\")\n",
    "        else:\n",
    "            print(\"not exist\")\n",
    "\n",
    "check_for_word()"
   ]
  },
  {
   "cell_type": "code",
   "execution_count": 10,
   "metadata": {},
   "outputs": [
    {
     "data": {
      "text/plain": [
       "-1"
      ]
     },
     "execution_count": 10,
     "metadata": {},
     "output_type": "execute_result"
    }
   ],
   "source": [
    "# WAF to find in which line of the file does the word\"learning\" occur first.\n",
    "# Print -1 if word not found.\n",
    "\n",
    "def check_for_line():\n",
    "    word = \"pyq\"\n",
    "    line_no = 1\n",
    "    with open(\"practice.txt\", \"r\") as f:\n",
    "        while True:\n",
    "            data = f.readline()\n",
    "            if not data:\n",
    "                break\n",
    "            if word in data:\n",
    "                print(line_no)\n",
    "                return line_no\n",
    "            line_no += 1\n",
    "    return -1\n",
    "\n",
    "check_for_line()\n"
   ]
  },
  {
   "cell_type": "code",
   "execution_count": 14,
   "metadata": {},
   "outputs": [
    {
     "name": "stdout",
     "output_type": "stream",
     "text": [
      "1\n"
     ]
    }
   ],
   "source": [
    "# From a file containing numbers sepeared by comma, print the count of even numbers.\n",
    "\n",
    "count = 0\n",
    "with open(\"practice.txt\",\"r\") as f:\n",
    "    data = f.read()\n",
    "\n",
    "    nums = data.split(\",\")\n",
    "    for val in nums:\n",
    "        if(int(val) % 2 == 0):\n",
    "            count +=1\n",
    "\n",
    "print(count)\n",
    "\n"
   ]
  }
 ],
 "metadata": {
  "kernelspec": {
   "display_name": "Python 3",
   "language": "python",
   "name": "python3"
  },
  "language_info": {
   "codemirror_mode": {
    "name": "ipython",
    "version": 3
   },
   "file_extension": ".py",
   "mimetype": "text/x-python",
   "name": "python",
   "nbconvert_exporter": "python",
   "pygments_lexer": "ipython3",
   "version": "3.10.8"
  }
 },
 "nbformat": 4,
 "nbformat_minor": 2
}
